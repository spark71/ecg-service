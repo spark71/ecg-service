{
 "cells": [
  {
   "cell_type": "code",
   "execution_count": 2,
   "id": "initial_id",
   "metadata": {
    "collapsed": true,
    "ExecuteTime": {
     "end_time": "2024-03-12T12:37:25.402417Z",
     "start_time": "2024-03-12T12:37:20.735938Z"
    }
   },
   "outputs": [],
   "source": [
    "import pandas as pd\n",
    "import os\n",
    "import h5py\n",
    "from ecg import Datasets, EcgSignal    "
   ]
  },
  {
   "cell_type": "markdown",
   "source": [
    "# 1. Исследовательский анализ данных\n",
    "\n"
   ],
   "metadata": {
    "collapsed": false
   },
   "id": "ee56d786bf6499ce"
  },
  {
   "cell_type": "markdown",
   "source": [
    "## 1.1 Данные: PTBXL \n",
    "[Источник](https://physionet.org/content/ptb-xl/1.0.3/)\n",
    "\n",
    "- ptbxl_data - общий набор данных со ссылками на записи экг\n",
    "- ptbxl_scp_statements - набор данных с описанием диагнозов"
   ],
   "metadata": {
    "collapsed": false
   },
   "id": "f32a92072d79498f"
  },
  {
   "cell_type": "code",
   "outputs": [],
   "source": [
    "ptbxl_data = pd.read_csv(Datasets.ptbxl.path)\n",
    "ptbxl_statements = pd.read_csv(Datasets.ptbxl_scp_statements.path)"
   ],
   "metadata": {
    "collapsed": false,
    "ExecuteTime": {
     "end_time": "2024-03-12T12:37:27.442771Z",
     "start_time": "2024-03-12T12:37:27.291680Z"
    }
   },
   "id": "ceef002bf00cf426",
   "execution_count": 3
  },
  {
   "cell_type": "code",
   "outputs": [
    {
     "data": {
      "text/plain": "   ecg_id  patient_id   age  sex  height  weight  nurse  site     device  \\\n0       1     15709.0  56.0    1     NaN    63.0    2.0   0.0  CS-12   E   \n1       2     13243.0  19.0    0     NaN    70.0    2.0   0.0  CS-12   E   \n2       3     20372.0  37.0    1     NaN    69.0    2.0   0.0  CS-12   E   \n3       4     17014.0  24.0    0     NaN    82.0    2.0   0.0  CS-12   E   \n4       5     17448.0  19.0    1     NaN    70.0    2.0   0.0  CS-12   E   \n\n        recording_date  ... validated_by_human  baseline_drift static_noise  \\\n0  1984-11-09 09:17:34  ...               True             NaN    , I-V1,     \n1  1984-11-14 12:55:37  ...               True             NaN          NaN   \n2  1984-11-15 12:49:10  ...               True             NaN          NaN   \n3  1984-11-15 13:44:57  ...               True    , II,III,AVF          NaN   \n4  1984-11-17 10:43:15  ...               True   , III,AVR,AVF          NaN   \n\n  burst_noise electrodes_problems  extra_beats  pacemaker  strat_fold  \\\n0         NaN                 NaN          NaN        NaN           3   \n1         NaN                 NaN          NaN        NaN           2   \n2         NaN                 NaN          NaN        NaN           5   \n3         NaN                 NaN          NaN        NaN           3   \n4         NaN                 NaN          NaN        NaN           4   \n\n                 filename_lr                filename_hr  \n0  records100/00000/00001_lr  records500/00000/00001_hr  \n1  records100/00000/00002_lr  records500/00000/00002_hr  \n2  records100/00000/00003_lr  records500/00000/00003_hr  \n3  records100/00000/00004_lr  records500/00000/00004_hr  \n4  records100/00000/00005_lr  records500/00000/00005_hr  \n\n[5 rows x 28 columns]",
      "text/html": "<div>\n<style scoped>\n    .dataframe tbody tr th:only-of-type {\n        vertical-align: middle;\n    }\n\n    .dataframe tbody tr th {\n        vertical-align: top;\n    }\n\n    .dataframe thead th {\n        text-align: right;\n    }\n</style>\n<table border=\"1\" class=\"dataframe\">\n  <thead>\n    <tr style=\"text-align: right;\">\n      <th></th>\n      <th>ecg_id</th>\n      <th>patient_id</th>\n      <th>age</th>\n      <th>sex</th>\n      <th>height</th>\n      <th>weight</th>\n      <th>nurse</th>\n      <th>site</th>\n      <th>device</th>\n      <th>recording_date</th>\n      <th>...</th>\n      <th>validated_by_human</th>\n      <th>baseline_drift</th>\n      <th>static_noise</th>\n      <th>burst_noise</th>\n      <th>electrodes_problems</th>\n      <th>extra_beats</th>\n      <th>pacemaker</th>\n      <th>strat_fold</th>\n      <th>filename_lr</th>\n      <th>filename_hr</th>\n    </tr>\n  </thead>\n  <tbody>\n    <tr>\n      <th>0</th>\n      <td>1</td>\n      <td>15709.0</td>\n      <td>56.0</td>\n      <td>1</td>\n      <td>NaN</td>\n      <td>63.0</td>\n      <td>2.0</td>\n      <td>0.0</td>\n      <td>CS-12   E</td>\n      <td>1984-11-09 09:17:34</td>\n      <td>...</td>\n      <td>True</td>\n      <td>NaN</td>\n      <td>, I-V1,</td>\n      <td>NaN</td>\n      <td>NaN</td>\n      <td>NaN</td>\n      <td>NaN</td>\n      <td>3</td>\n      <td>records100/00000/00001_lr</td>\n      <td>records500/00000/00001_hr</td>\n    </tr>\n    <tr>\n      <th>1</th>\n      <td>2</td>\n      <td>13243.0</td>\n      <td>19.0</td>\n      <td>0</td>\n      <td>NaN</td>\n      <td>70.0</td>\n      <td>2.0</td>\n      <td>0.0</td>\n      <td>CS-12   E</td>\n      <td>1984-11-14 12:55:37</td>\n      <td>...</td>\n      <td>True</td>\n      <td>NaN</td>\n      <td>NaN</td>\n      <td>NaN</td>\n      <td>NaN</td>\n      <td>NaN</td>\n      <td>NaN</td>\n      <td>2</td>\n      <td>records100/00000/00002_lr</td>\n      <td>records500/00000/00002_hr</td>\n    </tr>\n    <tr>\n      <th>2</th>\n      <td>3</td>\n      <td>20372.0</td>\n      <td>37.0</td>\n      <td>1</td>\n      <td>NaN</td>\n      <td>69.0</td>\n      <td>2.0</td>\n      <td>0.0</td>\n      <td>CS-12   E</td>\n      <td>1984-11-15 12:49:10</td>\n      <td>...</td>\n      <td>True</td>\n      <td>NaN</td>\n      <td>NaN</td>\n      <td>NaN</td>\n      <td>NaN</td>\n      <td>NaN</td>\n      <td>NaN</td>\n      <td>5</td>\n      <td>records100/00000/00003_lr</td>\n      <td>records500/00000/00003_hr</td>\n    </tr>\n    <tr>\n      <th>3</th>\n      <td>4</td>\n      <td>17014.0</td>\n      <td>24.0</td>\n      <td>0</td>\n      <td>NaN</td>\n      <td>82.0</td>\n      <td>2.0</td>\n      <td>0.0</td>\n      <td>CS-12   E</td>\n      <td>1984-11-15 13:44:57</td>\n      <td>...</td>\n      <td>True</td>\n      <td>, II,III,AVF</td>\n      <td>NaN</td>\n      <td>NaN</td>\n      <td>NaN</td>\n      <td>NaN</td>\n      <td>NaN</td>\n      <td>3</td>\n      <td>records100/00000/00004_lr</td>\n      <td>records500/00000/00004_hr</td>\n    </tr>\n    <tr>\n      <th>4</th>\n      <td>5</td>\n      <td>17448.0</td>\n      <td>19.0</td>\n      <td>1</td>\n      <td>NaN</td>\n      <td>70.0</td>\n      <td>2.0</td>\n      <td>0.0</td>\n      <td>CS-12   E</td>\n      <td>1984-11-17 10:43:15</td>\n      <td>...</td>\n      <td>True</td>\n      <td>, III,AVR,AVF</td>\n      <td>NaN</td>\n      <td>NaN</td>\n      <td>NaN</td>\n      <td>NaN</td>\n      <td>NaN</td>\n      <td>4</td>\n      <td>records100/00000/00005_lr</td>\n      <td>records500/00000/00005_hr</td>\n    </tr>\n  </tbody>\n</table>\n<p>5 rows × 28 columns</p>\n</div>"
     },
     "execution_count": 4,
     "metadata": {},
     "output_type": "execute_result"
    }
   ],
   "source": [
    "ptbxl_data.head()"
   ],
   "metadata": {
    "collapsed": false,
    "ExecuteTime": {
     "end_time": "2024-03-12T12:37:36.074680Z",
     "start_time": "2024-03-12T12:37:36.052514Z"
    }
   },
   "id": "f6d8fd3fc10783b9",
   "execution_count": 4
  },
  {
   "cell_type": "code",
   "outputs": [
    {
     "data": {
      "text/plain": "   Unnamed: 0                                        description  diagnostic  \\\n0         NDT                     non-diagnostic T abnormalities         1.0   \n1        NST_                            non-specific ST changes         1.0   \n2         DIG                                   digitalis-effect         1.0   \n3       LNGQT                                   long QT-interval         1.0   \n4        NORM                                         normal ECG         1.0   \n..        ...                                                ...         ...   \n66       BIGU  bigeminal pattern (unknown origin, SV or Ventr...         NaN   \n67       AFLT                                     atrial flutter         NaN   \n68      SVTAC                       supraventricular tachycardia         NaN   \n69       PSVT            paroxysmal supraventricular tachycardia         NaN   \n70      TRIGU  trigeminal pattern (unknown origin, SV or Vent...         NaN   \n\n    form  rhythm diagnostic_class diagnostic_subclass  \\\n0    1.0     NaN             STTC                STTC   \n1    1.0     NaN             STTC                NST_   \n2    1.0     NaN             STTC                STTC   \n3    1.0     NaN             STTC                STTC   \n4    NaN     NaN             NORM                NORM   \n..   ...     ...              ...                 ...   \n66   NaN     1.0              NaN                 NaN   \n67   NaN     1.0              NaN                 NaN   \n68   NaN     1.0              NaN                 NaN   \n69   NaN     1.0              NaN                 NaN   \n70   NaN     1.0              NaN                 NaN   \n\n                                   Statement Category  \\\n0                   other ST-T descriptive statements   \n1   Basic roots for coding ST-T changes and abnorm...   \n2                   other ST-T descriptive statements   \n3                   other ST-T descriptive statements   \n4                                     Normal/abnormal   \n..                                                ...   \n66  Statements related to ectopic rhythm abnormali...   \n67  Statements related to impulse formation (abnor...   \n68  Statements related to impulse formation (abnor...   \n69  Statements related to impulse formation (abnor...   \n70  Statements related to ectopic rhythm abnormali...   \n\n                        SCP-ECG Statement Description  AHA code  \\\n0                      non-diagnostic T abnormalities       NaN   \n1                             non-specific ST changes     145.0   \n2                           suggests digitalis-effect     205.0   \n3                                    long QT-interval     148.0   \n4                                          normal ECG       1.0   \n..                                                ...       ...   \n66  bigeminal pattern (unknown origin, SV or Ventr...       NaN   \n67                                     atrial flutter      51.0   \n68                       supraventricular tachycardia      55.0   \n69            paroxysmal supraventricular tachycardia       NaN   \n70  trigeminal pattern (unknown origin, SV or Vent...       NaN   \n\n                    aECG REFID CDISC Code DICOM Code  \n0                          NaN        NaN        NaN  \n1         MDC_ECG_RHY_STHILOST        NaN        NaN  \n2                          NaN        NaN        NaN  \n3                          NaN        NaN        NaN  \n4                          NaN        NaN    F-000B7  \n..                         ...        ...        ...  \n66                         NaN        NaN        NaN  \n67        MDC_ECG_RHY_ATR_FLUT        NaN        NaN  \n68        MDC_ECG_RHY_SV_TACHY        NaN   D3-31290  \n69  MDC_ECG_RHY_SV_TACHY_PAROX        NaN        NaN  \n70                         NaN        NaN        NaN  \n\n[71 rows x 13 columns]",
      "text/html": "<div>\n<style scoped>\n    .dataframe tbody tr th:only-of-type {\n        vertical-align: middle;\n    }\n\n    .dataframe tbody tr th {\n        vertical-align: top;\n    }\n\n    .dataframe thead th {\n        text-align: right;\n    }\n</style>\n<table border=\"1\" class=\"dataframe\">\n  <thead>\n    <tr style=\"text-align: right;\">\n      <th></th>\n      <th>Unnamed: 0</th>\n      <th>description</th>\n      <th>diagnostic</th>\n      <th>form</th>\n      <th>rhythm</th>\n      <th>diagnostic_class</th>\n      <th>diagnostic_subclass</th>\n      <th>Statement Category</th>\n      <th>SCP-ECG Statement Description</th>\n      <th>AHA code</th>\n      <th>aECG REFID</th>\n      <th>CDISC Code</th>\n      <th>DICOM Code</th>\n    </tr>\n  </thead>\n  <tbody>\n    <tr>\n      <th>0</th>\n      <td>NDT</td>\n      <td>non-diagnostic T abnormalities</td>\n      <td>1.0</td>\n      <td>1.0</td>\n      <td>NaN</td>\n      <td>STTC</td>\n      <td>STTC</td>\n      <td>other ST-T descriptive statements</td>\n      <td>non-diagnostic T abnormalities</td>\n      <td>NaN</td>\n      <td>NaN</td>\n      <td>NaN</td>\n      <td>NaN</td>\n    </tr>\n    <tr>\n      <th>1</th>\n      <td>NST_</td>\n      <td>non-specific ST changes</td>\n      <td>1.0</td>\n      <td>1.0</td>\n      <td>NaN</td>\n      <td>STTC</td>\n      <td>NST_</td>\n      <td>Basic roots for coding ST-T changes and abnorm...</td>\n      <td>non-specific ST changes</td>\n      <td>145.0</td>\n      <td>MDC_ECG_RHY_STHILOST</td>\n      <td>NaN</td>\n      <td>NaN</td>\n    </tr>\n    <tr>\n      <th>2</th>\n      <td>DIG</td>\n      <td>digitalis-effect</td>\n      <td>1.0</td>\n      <td>1.0</td>\n      <td>NaN</td>\n      <td>STTC</td>\n      <td>STTC</td>\n      <td>other ST-T descriptive statements</td>\n      <td>suggests digitalis-effect</td>\n      <td>205.0</td>\n      <td>NaN</td>\n      <td>NaN</td>\n      <td>NaN</td>\n    </tr>\n    <tr>\n      <th>3</th>\n      <td>LNGQT</td>\n      <td>long QT-interval</td>\n      <td>1.0</td>\n      <td>1.0</td>\n      <td>NaN</td>\n      <td>STTC</td>\n      <td>STTC</td>\n      <td>other ST-T descriptive statements</td>\n      <td>long QT-interval</td>\n      <td>148.0</td>\n      <td>NaN</td>\n      <td>NaN</td>\n      <td>NaN</td>\n    </tr>\n    <tr>\n      <th>4</th>\n      <td>NORM</td>\n      <td>normal ECG</td>\n      <td>1.0</td>\n      <td>NaN</td>\n      <td>NaN</td>\n      <td>NORM</td>\n      <td>NORM</td>\n      <td>Normal/abnormal</td>\n      <td>normal ECG</td>\n      <td>1.0</td>\n      <td>NaN</td>\n      <td>NaN</td>\n      <td>F-000B7</td>\n    </tr>\n    <tr>\n      <th>...</th>\n      <td>...</td>\n      <td>...</td>\n      <td>...</td>\n      <td>...</td>\n      <td>...</td>\n      <td>...</td>\n      <td>...</td>\n      <td>...</td>\n      <td>...</td>\n      <td>...</td>\n      <td>...</td>\n      <td>...</td>\n      <td>...</td>\n    </tr>\n    <tr>\n      <th>66</th>\n      <td>BIGU</td>\n      <td>bigeminal pattern (unknown origin, SV or Ventr...</td>\n      <td>NaN</td>\n      <td>NaN</td>\n      <td>1.0</td>\n      <td>NaN</td>\n      <td>NaN</td>\n      <td>Statements related to ectopic rhythm abnormali...</td>\n      <td>bigeminal pattern (unknown origin, SV or Ventr...</td>\n      <td>NaN</td>\n      <td>NaN</td>\n      <td>NaN</td>\n      <td>NaN</td>\n    </tr>\n    <tr>\n      <th>67</th>\n      <td>AFLT</td>\n      <td>atrial flutter</td>\n      <td>NaN</td>\n      <td>NaN</td>\n      <td>1.0</td>\n      <td>NaN</td>\n      <td>NaN</td>\n      <td>Statements related to impulse formation (abnor...</td>\n      <td>atrial flutter</td>\n      <td>51.0</td>\n      <td>MDC_ECG_RHY_ATR_FLUT</td>\n      <td>NaN</td>\n      <td>NaN</td>\n    </tr>\n    <tr>\n      <th>68</th>\n      <td>SVTAC</td>\n      <td>supraventricular tachycardia</td>\n      <td>NaN</td>\n      <td>NaN</td>\n      <td>1.0</td>\n      <td>NaN</td>\n      <td>NaN</td>\n      <td>Statements related to impulse formation (abnor...</td>\n      <td>supraventricular tachycardia</td>\n      <td>55.0</td>\n      <td>MDC_ECG_RHY_SV_TACHY</td>\n      <td>NaN</td>\n      <td>D3-31290</td>\n    </tr>\n    <tr>\n      <th>69</th>\n      <td>PSVT</td>\n      <td>paroxysmal supraventricular tachycardia</td>\n      <td>NaN</td>\n      <td>NaN</td>\n      <td>1.0</td>\n      <td>NaN</td>\n      <td>NaN</td>\n      <td>Statements related to impulse formation (abnor...</td>\n      <td>paroxysmal supraventricular tachycardia</td>\n      <td>NaN</td>\n      <td>MDC_ECG_RHY_SV_TACHY_PAROX</td>\n      <td>NaN</td>\n      <td>NaN</td>\n    </tr>\n    <tr>\n      <th>70</th>\n      <td>TRIGU</td>\n      <td>trigeminal pattern (unknown origin, SV or Vent...</td>\n      <td>NaN</td>\n      <td>NaN</td>\n      <td>1.0</td>\n      <td>NaN</td>\n      <td>NaN</td>\n      <td>Statements related to ectopic rhythm abnormali...</td>\n      <td>trigeminal pattern (unknown origin, SV or Vent...</td>\n      <td>NaN</td>\n      <td>NaN</td>\n      <td>NaN</td>\n      <td>NaN</td>\n    </tr>\n  </tbody>\n</table>\n<p>71 rows × 13 columns</p>\n</div>"
     },
     "execution_count": 5,
     "metadata": {},
     "output_type": "execute_result"
    }
   ],
   "source": [
    "ptbxl_statements"
   ],
   "metadata": {
    "collapsed": false,
    "ExecuteTime": {
     "end_time": "2024-03-12T12:37:36.086582Z",
     "start_time": "2024-03-12T12:37:36.075741Z"
    }
   },
   "id": "419641aa8e84596a",
   "execution_count": 5
  },
  {
   "cell_type": "code",
   "outputs": [
    {
     "name": "stdout",
     "output_type": "stream",
     "text": [
      "Всего уникальных состояний здоровья сердца в датасете: 71\n"
     ]
    }
   ],
   "source": [
    "print(\"Всего уникальных состояний здоровья сердца в датасете:\", len(ptbxl_statements))"
   ],
   "metadata": {
    "collapsed": false,
    "ExecuteTime": {
     "end_time": "2024-03-12T13:09:48.211083Z",
     "start_time": "2024-03-12T13:09:48.206415Z"
    }
   },
   "id": "97c04da5bc863547",
   "execution_count": 11
  },
  {
   "cell_type": "code",
   "outputs": [
    {
     "name": "stdout",
     "output_type": "stream",
     "text": [
      "Общие уникальные классы:\n"
     ]
    },
    {
     "data": {
      "text/plain": "array(['STTC', 'NORM', 'MI', 'HYP', 'CD', nan], dtype=object)"
     },
     "execution_count": 10,
     "metadata": {},
     "output_type": "execute_result"
    }
   ],
   "source": [
    "print(\"Общие уникальные классы:\")\n",
    "ptbxl_statements['diagnostic_class'].unique()"
   ],
   "metadata": {
    "collapsed": false,
    "ExecuteTime": {
     "end_time": "2024-03-12T13:09:06.417222Z",
     "start_time": "2024-03-12T13:09:06.411752Z"
    }
   },
   "id": "7ec30f6b42d75b66",
   "execution_count": 10
  },
  {
   "cell_type": "markdown",
   "source": [
    "#### Основные классы:\n",
    "- STTC (ST/T Change - **изменения в ST/T-сегменте**),  5235 записей\n",
    "- NORM (Normal ECG - **нормальный экг**),  9514 записей\n",
    "- MI (Myocardial Infarction - **инфаркт миокарда**),  5469 записей\n",
    "- HYP (Hypertrophy - **гипертрофия**), 2649 записей\n",
    "- CD (Conduction Disturbance - **нарушение проводимости**),  4898 записей\n",
    "\n",
    "\n"
   ],
   "metadata": {
    "collapsed": false
   },
   "id": "519729c3dd024a07"
  },
  {
   "cell_type": "code",
   "outputs": [
    {
     "name": "stdout",
     "output_type": "stream",
     "text": [
      "<class 'pandas.core.frame.DataFrame'>\n",
      "RangeIndex: 21799 entries, 0 to 21798\n",
      "Data columns (total 28 columns):\n",
      " #   Column                        Non-Null Count  Dtype  \n",
      "---  ------                        --------------  -----  \n",
      " 0   ecg_id                        21799 non-null  int64  \n",
      " 1   patient_id                    21799 non-null  float64\n",
      " 2   age                           21799 non-null  float64\n",
      " 3   sex                           21799 non-null  int64  \n",
      " 4   height                        6974 non-null   float64\n",
      " 5   weight                        9421 non-null   float64\n",
      " 6   nurse                         20326 non-null  float64\n",
      " 7   site                          21782 non-null  float64\n",
      " 8   device                        21799 non-null  object \n",
      " 9   recording_date                21799 non-null  object \n",
      " 10  report                        21799 non-null  object \n",
      " 11  scp_codes                     21799 non-null  object \n",
      " 12  heart_axis                    13331 non-null  object \n",
      " 13  infarction_stadium1           5612 non-null   object \n",
      " 14  infarction_stadium2           103 non-null    object \n",
      " 15  validated_by                  12421 non-null  float64\n",
      " 16  second_opinion                21799 non-null  bool   \n",
      " 17  initial_autogenerated_report  21799 non-null  bool   \n",
      " 18  validated_by_human            21799 non-null  bool   \n",
      " 19  baseline_drift                1598 non-null   object \n",
      " 20  static_noise                  3260 non-null   object \n",
      " 21  burst_noise                   613 non-null    object \n",
      " 22  electrodes_problems           30 non-null     object \n",
      " 23  extra_beats                   1949 non-null   object \n",
      " 24  pacemaker                     291 non-null    object \n",
      " 25  strat_fold                    21799 non-null  int64  \n",
      " 26  filename_lr                   21799 non-null  object \n",
      " 27  filename_hr                   21799 non-null  object \n",
      "dtypes: bool(3), float64(7), int64(3), object(15)\n",
      "memory usage: 4.2+ MB\n"
     ]
    }
   ],
   "source": [
    "ptbxl_data.info()"
   ],
   "metadata": {
    "collapsed": false,
    "ExecuteTime": {
     "end_time": "2024-03-12T13:47:17.263074Z",
     "start_time": "2024-03-12T13:47:17.194876Z"
    }
   },
   "id": "93e640b1d6aa9239",
   "execution_count": 14
  },
  {
   "cell_type": "code",
   "outputs": [
    {
     "data": {
      "text/plain": "0                 {'NORM': 100.0, 'LVOLT': 0.0, 'SR': 0.0}\n1                             {'NORM': 80.0, 'SBRAD': 0.0}\n2                               {'NORM': 100.0, 'SR': 0.0}\n3                               {'NORM': 100.0, 'SR': 0.0}\n4                               {'NORM': 100.0, 'SR': 0.0}\n                               ...                        \n21794    {'NDT': 100.0, 'PVC': 100.0, 'VCLVH': 0.0, 'ST...\n21795             {'NORM': 100.0, 'ABQRS': 0.0, 'SR': 0.0}\n21796                           {'ISCAS': 50.0, 'SR': 0.0}\n21797                           {'NORM': 100.0, 'SR': 0.0}\n21798                           {'NORM': 100.0, 'SR': 0.0}\nName: scp_codes, Length: 21799, dtype: object"
     },
     "execution_count": 15,
     "metadata": {},
     "output_type": "execute_result"
    }
   ],
   "source": [
    "ptbxl_data['scp_codes']"
   ],
   "metadata": {
    "collapsed": false,
    "ExecuteTime": {
     "end_time": "2024-03-12T13:48:15.948533Z",
     "start_time": "2024-03-12T13:48:15.939954Z"
    }
   },
   "id": "ca5eaebfae7a899",
   "execution_count": 15
  },
  {
   "cell_type": "code",
   "outputs": [
    {
     "data": {
      "text/plain": "5463"
     },
     "execution_count": 16,
     "metadata": {},
     "output_type": "execute_result"
    }
   ],
   "source": [
    "ptbxl_data['scp_codes'].nunique()"
   ],
   "metadata": {
    "collapsed": false,
    "ExecuteTime": {
     "end_time": "2024-03-12T14:16:37.059882Z",
     "start_time": "2024-03-12T14:16:37.009476Z"
    }
   },
   "id": "bca0383e2429a09e",
   "execution_count": 16
  },
  {
   "cell_type": "code",
   "outputs": [
    {
     "name": "stdout",
     "output_type": "stream",
     "text": [
      "NORM 100.0\n"
     ]
    }
   ],
   "source": [
    "d = {'NORM': 100.0, 'SR': 0.0}\n",
    "for k, v in d.items():\n",
    "    if k == 'NORM' and v > 80:\n",
    "        print(k, v)"
   ],
   "metadata": {
    "collapsed": false,
    "ExecuteTime": {
     "end_time": "2024-03-12T14:19:08.237508Z",
     "start_time": "2024-03-12T14:19:08.232982Z"
    }
   },
   "id": "eb7096359e1201bf",
   "execution_count": 19
  },
  {
   "cell_type": "code",
   "outputs": [],
   "source": [
    "1"
   ],
   "metadata": {
    "collapsed": false
   },
   "id": "38356d8c4e15d9d"
  },
  {
   "cell_type": "code",
   "outputs": [],
   "source": [],
   "metadata": {
    "collapsed": false
   },
   "id": "4711eab5e88578f2"
  },
  {
   "cell_type": "markdown",
   "source": [
    "## 1.2 Данные: CODE test\n",
    "[[https://zenodo.org/records/3765780]]\n"
   ],
   "metadata": {
    "collapsed": false
   },
   "id": "8a1a57b78cebc9f9"
  },
  {
   "cell_type": "code",
   "outputs": [
    {
     "data": {
      "text/plain": "<Figure size 1800x800 with 0 Axes>"
     },
     "metadata": {},
     "output_type": "display_data"
    },
    {
     "data": {
      "text/plain": "<Figure size 640x480 with 1 Axes>",
      "image/png": "[encoded data removed]"
     },
     "metadata": {},
     "output_type": "display_data"
    }
   ],
   "source": [
    "ecg_sample_codetest = EcgSignal.take_sample_codetest(person_idx=2, show=True, zone='II', prep=False)"
   ],
   "metadata": {
    "collapsed": false,
    "ExecuteTime": {
     "end_time": "2024-03-12T13:14:16.896980Z",
     "start_time": "2024-03-12T13:14:16.759988Z"
    }
   },
   "id": "7ee4fc68c544c54e",
   "execution_count": 13
  },
  {
   "cell_type": "code",
   "outputs": [],
   "source": [],
   "metadata": {
    "collapsed": false,
    "ExecuteTime": {
     "end_time": "2024-03-12T12:37:36.438332Z",
     "start_time": "2024-03-12T12:37:36.435629Z"
    }
   },
   "id": "95d743dc8331035d",
   "execution_count": 7
  },
  {
   "cell_type": "code",
   "outputs": [],
   "source": [],
   "metadata": {
    "collapsed": false,
    "ExecuteTime": {
     "start_time": "2024-03-12T11:46:40.802190Z"
    }
   },
   "id": "71601acee22dd64c"
  },
  {
   "cell_type": "code",
   "outputs": [],
   "source": [],
   "metadata": {
    "collapsed": false
   },
   "id": "2651a26b29ec3370"
  },
  {
   "cell_type": "code",
   "outputs": [],
   "source": [],
   "metadata": {
    "collapsed": false
   },
   "id": "2d769ecc7957fc7d"
  },
  {
   "cell_type": "code",
   "outputs": [],
   "source": [],
   "metadata": {
    "collapsed": false
   },
   "id": "e3856a1286f613eb"
  },
  {
   "cell_type": "code",
   "outputs": [],
   "source": [],
   "metadata": {
    "collapsed": false
   },
   "id": "fa3267a181357221"
  },
  {
   "cell_type": "code",
   "outputs": [],
   "source": [],
   "metadata": {
    "collapsed": false
   },
   "id": "e69da5cff4bb3e6a"
  },
  {
   "cell_type": "markdown",
   "source": [],
   "metadata": {
    "collapsed": false
   },
   "id": "a8b682bc2661626b"
  }
 ],
 "metadata": {
  "kernelspec": {
   "display_name": "Python 3",
   "language": "python",
   "name": "python3"
  },
  "language_info": {
   "codemirror_mode": {
    "name": "ipython",
    "version": 2
   },
   "file_extension": ".py",
   "mimetype": "text/x-python",
   "name": "python",
   "nbconvert_exporter": "python",
   "pygments_lexer": "ipython2",
   "version": "2.7.6"
  }
 },
 "nbformat": 4,
 "nbformat_minor": 5
}
