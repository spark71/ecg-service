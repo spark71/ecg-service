{
 "cells": [
  {
   "cell_type": "code",
   "outputs": [],
   "source": [
    "import os\n",
    "import numpy as np\n",
    "import pandas as pd\n",
    "import wfdb\n",
    "from PIL import Image\n",
    "from matplotlib import pyplot as plt\n",
    "from tqdm import tqdm\n",
    "import seaborn as sns\n",
    "from app.ecg.ecg import Datasets, EcgSignal    \n",
    "\n",
    "ptbxl_data = pd.read_csv(r'C:\\Users\\redmi\\PycharmProjects\\ecg-tool-api\\data\\ptbxl\\labels.csv', index_col=0)\n",
    "# ptbxl_statements = pd.read_csv(Datasets.ptbxl_scp_statements.path, index_col=0)\n",
    "# ptbxl_data['patient_id'] = ptbxl_data['patient_id'].astype(int)\n",
    "# ptbxl_data['nurse'] = ptbxl_data['nurse'].astype('Int64')\n",
    "# ptbxl_data['site'] = ptbxl_data['site'].astype('Int64')\n",
    "# ptbxl_data['validated_by'] = ptbxl_data['validated_by'].astype('Int64')\n"
   ],
   "metadata": {
    "collapsed": false,
    "ExecuteTime": {
     "end_time": "2024-05-01T08:43:07.565079Z",
     "start_time": "2024-05-01T08:43:07.472753Z"
    }
   },
   "id": "2a8ec33fd3b09926",
   "execution_count": 39
  },
  {
   "cell_type": "code",
   "outputs": [
    {
     "data": {
      "text/plain": "              age  sex  height  weight  nurse  site      device  \\\npatient_id                                                        \n15709.0      56.0    1     NaN    63.0    2.0   0.0   CS-12   E   \n13243.0      19.0    0     NaN    70.0    2.0   0.0   CS-12   E   \n20372.0      37.0    1     NaN    69.0    2.0   0.0   CS-12   E   \n17014.0      24.0    0     NaN    82.0    2.0   0.0   CS-12   E   \n17448.0      19.0    1     NaN    70.0    2.0   0.0   CS-12   E   \n...           ...  ...     ...     ...    ...   ...         ...   \n17180.0      67.0    1     NaN     NaN    1.0   2.0  AT-60    3   \n20703.0     300.0    0     NaN     NaN    1.0   2.0  AT-60    3   \n19311.0      59.0    1     NaN     NaN    1.0   2.0  AT-60    3   \n8873.0       64.0    1     NaN     NaN    1.0   2.0  AT-60    3   \n11744.0      68.0    0     NaN     NaN    1.0   2.0  AT-60    3   \n\n                 recording_date  \\\npatient_id                        \n15709.0     1984-11-09 09:17:34   \n13243.0     1984-11-14 12:55:37   \n20372.0     1984-11-15 12:49:10   \n17014.0     1984-11-15 13:44:57   \n17448.0     1984-11-17 10:43:15   \n...                         ...   \n17180.0     2001-05-31 09:14:35   \n20703.0     2001-06-05 11:33:39   \n19311.0     2001-06-08 10:30:27   \n8873.0      2001-06-09 18:21:49   \n11744.0     2001-06-11 16:43:01   \n\n                                                       report  \\\npatient_id                                                      \n15709.0                sinusrhythmus periphere niederspannung   \n13243.0                   sinusbradykardie sonst normales ekg   \n20372.0                            sinusrhythmus normales ekg   \n17014.0                            sinusrhythmus normales ekg   \n17448.0                            sinusrhythmus normales ekg   \n...                                                       ...   \n17180.0     ventrikulÄre extrasystole(n) sinustachykardie ...   \n20703.0     sinusrhythmus lagetyp normal qrs(t) abnorm    ...   \n19311.0     sinusrhythmus lagetyp normal t abnorm in anter...   \n8873.0      supraventrikulÄre extrasystole(n) sinusrhythmu...   \n11744.0     sinusrhythmus p-sinistrocardiale lagetyp norma...   \n\n                                                    scp_codes  ...  \\\npatient_id                                                     ...   \n15709.0              {'NORM': 100.0, 'LVOLT': 0.0, 'SR': 0.0}  ...   \n13243.0                          {'NORM': 80.0, 'SBRAD': 0.0}  ...   \n20372.0                            {'NORM': 100.0, 'SR': 0.0}  ...   \n17014.0                            {'NORM': 100.0, 'SR': 0.0}  ...   \n17448.0                            {'NORM': 100.0, 'SR': 0.0}  ...   \n...                                                       ...  ...   \n17180.0     {'NDT': 100.0, 'PVC': 100.0, 'VCLVH': 0.0, 'ST...  ...   \n20703.0              {'NORM': 100.0, 'ABQRS': 0.0, 'SR': 0.0}  ...   \n19311.0                            {'ISCAS': 50.0, 'SR': 0.0}  ...   \n8873.0                             {'NORM': 100.0, 'SR': 0.0}  ...   \n11744.0                            {'NORM': 100.0, 'SR': 0.0}  ...   \n\n           burst_noise electrodes_problems extra_beats  pacemaker  strat_fold  \\\npatient_id                                                                      \n15709.0            NaN                 NaN         NaN        NaN           3   \n13243.0            NaN                 NaN         NaN        NaN           2   \n20372.0            NaN                 NaN         NaN        NaN           5   \n17014.0            NaN                 NaN         NaN        NaN           3   \n17448.0            NaN                 NaN         NaN        NaN           4   \n...                ...                 ...         ...        ...         ...   \n17180.0            NaN                 NaN         1ES        NaN           7   \n20703.0            NaN                 NaN         NaN        NaN           4   \n19311.0            NaN                 NaN         NaN        NaN           2   \n8873.0             NaN                 NaN        SVES        NaN           8   \n11744.0            NaN                 NaN         NaN        NaN           9   \n\n                          filename_lr                filename_hr  \\\npatient_id                                                         \n15709.0     records100/00000/00001_lr  records500/00000/00001_hr   \n13243.0     records100/00000/00002_lr  records500/00000/00002_hr   \n20372.0     records100/00000/00003_lr  records500/00000/00003_hr   \n17014.0     records100/00000/00004_lr  records500/00000/00004_hr   \n17448.0     records100/00000/00005_lr  records500/00000/00005_hr   \n...                               ...                        ...   \n17180.0     records100/21000/21833_lr  records500/21000/21833_hr   \n20703.0     records100/21000/21834_lr  records500/21000/21834_hr   \n19311.0     records100/21000/21835_lr  records500/21000/21835_hr   \n8873.0      records100/21000/21836_lr  records500/21000/21836_hr   \n11744.0     records100/21000/21837_lr  records500/21000/21837_hr   \n\n           scp_codes_len superdiagnostic superdiagnostic_len  \npatient_id                                                    \n15709.0                3        ['NORM']                   1  \n13243.0                2        ['NORM']                   1  \n20372.0                2        ['NORM']                   1  \n17014.0                2        ['NORM']                   1  \n17448.0                2        ['NORM']                   1  \n...                  ...             ...                 ...  \n17180.0                4        ['STTC']                   1  \n20703.0                3        ['NORM']                   1  \n19311.0                2        ['STTC']                   1  \n8873.0                 2        ['NORM']                   1  \n11744.0                2        ['NORM']                   1  \n\n[21388 rows x 29 columns]",
      "text/html": "<div>\n<style scoped>\n    .dataframe tbody tr th:only-of-type {\n        vertical-align: middle;\n    }\n\n    .dataframe tbody tr th {\n        vertical-align: top;\n    }\n\n    .dataframe thead th {\n        text-align: right;\n    }\n</style>\n<table border=\"1\" class=\"dataframe\">\n  <thead>\n    <tr style=\"text-align: right;\">\n      <th></th>\n      <th>age</th>\n      <th>sex</th>\n      <th>height</th>\n      <th>weight</th>\n      <th>nurse</th>\n      <th>site</th>\n      <th>device</th>\n      <th>recording_date</th>\n      <th>report</th>\n      <th>scp_codes</th>\n      <th>...</th>\n      <th>burst_noise</th>\n      <th>electrodes_problems</th>\n      <th>extra_beats</th>\n      <th>pacemaker</th>\n      <th>strat_fold</th>\n      <th>filename_lr</th>\n      <th>filename_hr</th>\n      <th>scp_codes_len</th>\n      <th>superdiagnostic</th>\n      <th>superdiagnostic_len</th>\n    </tr>\n    <tr>\n      <th>patient_id</th>\n      <th></th>\n      <th></th>\n      <th></th>\n      <th></th>\n      <th></th>\n      <th></th>\n      <th></th>\n      <th></th>\n      <th></th>\n      <th></th>\n      <th></th>\n      <th></th>\n      <th></th>\n      <th></th>\n      <th></th>\n      <th></th>\n      <th></th>\n      <th></th>\n      <th></th>\n      <th></th>\n      <th></th>\n    </tr>\n  </thead>\n  <tbody>\n    <tr>\n      <th>15709.0</th>\n      <td>56.0</td>\n      <td>1</td>\n      <td>NaN</td>\n      <td>63.0</td>\n      <td>2.0</td>\n      <td>0.0</td>\n      <td>CS-12   E</td>\n      <td>1984-11-09 09:17:34</td>\n      <td>sinusrhythmus periphere niederspannung</td>\n      <td>{'NORM': 100.0, 'LVOLT': 0.0, 'SR': 0.0}</td>\n      <td>...</td>\n      <td>NaN</td>\n      <td>NaN</td>\n      <td>NaN</td>\n      <td>NaN</td>\n      <td>3</td>\n      <td>records100/00000/00001_lr</td>\n      <td>records500/00000/00001_hr</td>\n      <td>3</td>\n      <td>['NORM']</td>\n      <td>1</td>\n    </tr>\n    <tr>\n      <th>13243.0</th>\n      <td>19.0</td>\n      <td>0</td>\n      <td>NaN</td>\n      <td>70.0</td>\n      <td>2.0</td>\n      <td>0.0</td>\n      <td>CS-12   E</td>\n      <td>1984-11-14 12:55:37</td>\n      <td>sinusbradykardie sonst normales ekg</td>\n      <td>{'NORM': 80.0, 'SBRAD': 0.0}</td>\n      <td>...</td>\n      <td>NaN</td>\n      <td>NaN</td>\n      <td>NaN</td>\n      <td>NaN</td>\n      <td>2</td>\n      <td>records100/00000/00002_lr</td>\n      <td>records500/00000/00002_hr</td>\n      <td>2</td>\n      <td>['NORM']</td>\n      <td>1</td>\n    </tr>\n    <tr>\n      <th>20372.0</th>\n      <td>37.0</td>\n      <td>1</td>\n      <td>NaN</td>\n      <td>69.0</td>\n      <td>2.0</td>\n      <td>0.0</td>\n      <td>CS-12   E</td>\n      <td>1984-11-15 12:49:10</td>\n      <td>sinusrhythmus normales ekg</td>\n      <td>{'NORM': 100.0, 'SR': 0.0}</td>\n      <td>...</td>\n      <td>NaN</td>\n      <td>NaN</td>\n      <td>NaN</td>\n      <td>NaN</td>\n      <td>5</td>\n      <td>records100/00000/00003_lr</td>\n      <td>records500/00000/00003_hr</td>\n      <td>2</td>\n      <td>['NORM']</td>\n      <td>1</td>\n    </tr>\n    <tr>\n      <th>17014.0</th>\n      <td>24.0</td>\n      <td>0</td>\n      <td>NaN</td>\n      <td>82.0</td>\n      <td>2.0</td>\n      <td>0.0</td>\n      <td>CS-12   E</td>\n      <td>1984-11-15 13:44:57</td>\n      <td>sinusrhythmus normales ekg</td>\n      <td>{'NORM': 100.0, 'SR': 0.0}</td>\n      <td>...</td>\n      <td>NaN</td>\n      <td>NaN</td>\n      <td>NaN</td>\n      <td>NaN</td>\n      <td>3</td>\n      <td>records100/00000/00004_lr</td>\n      <td>records500/00000/00004_hr</td>\n      <td>2</td>\n      <td>['NORM']</td>\n      <td>1</td>\n    </tr>\n    <tr>\n      <th>17448.0</th>\n      <td>19.0</td>\n      <td>1</td>\n      <td>NaN</td>\n      <td>70.0</td>\n      <td>2.0</td>\n      <td>0.0</td>\n      <td>CS-12   E</td>\n      <td>1984-11-17 10:43:15</td>\n      <td>sinusrhythmus normales ekg</td>\n      <td>{'NORM': 100.0, 'SR': 0.0}</td>\n      <td>...</td>\n      <td>NaN</td>\n      <td>NaN</td>\n      <td>NaN</td>\n      <td>NaN</td>\n      <td>4</td>\n      <td>records100/00000/00005_lr</td>\n      <td>records500/00000/00005_hr</td>\n      <td>2</td>\n      <td>['NORM']</td>\n      <td>1</td>\n    </tr>\n    <tr>\n      <th>...</th>\n      <td>...</td>\n      <td>...</td>\n      <td>...</td>\n      <td>...</td>\n      <td>...</td>\n      <td>...</td>\n      <td>...</td>\n      <td>...</td>\n      <td>...</td>\n      <td>...</td>\n      <td>...</td>\n      <td>...</td>\n      <td>...</td>\n      <td>...</td>\n      <td>...</td>\n      <td>...</td>\n      <td>...</td>\n      <td>...</td>\n      <td>...</td>\n      <td>...</td>\n      <td>...</td>\n    </tr>\n    <tr>\n      <th>17180.0</th>\n      <td>67.0</td>\n      <td>1</td>\n      <td>NaN</td>\n      <td>NaN</td>\n      <td>1.0</td>\n      <td>2.0</td>\n      <td>AT-60    3</td>\n      <td>2001-05-31 09:14:35</td>\n      <td>ventrikulÄre extrasystole(n) sinustachykardie ...</td>\n      <td>{'NDT': 100.0, 'PVC': 100.0, 'VCLVH': 0.0, 'ST...</td>\n      <td>...</td>\n      <td>NaN</td>\n      <td>NaN</td>\n      <td>1ES</td>\n      <td>NaN</td>\n      <td>7</td>\n      <td>records100/21000/21833_lr</td>\n      <td>records500/21000/21833_hr</td>\n      <td>4</td>\n      <td>['STTC']</td>\n      <td>1</td>\n    </tr>\n    <tr>\n      <th>20703.0</th>\n      <td>300.0</td>\n      <td>0</td>\n      <td>NaN</td>\n      <td>NaN</td>\n      <td>1.0</td>\n      <td>2.0</td>\n      <td>AT-60    3</td>\n      <td>2001-06-05 11:33:39</td>\n      <td>sinusrhythmus lagetyp normal qrs(t) abnorm    ...</td>\n      <td>{'NORM': 100.0, 'ABQRS': 0.0, 'SR': 0.0}</td>\n      <td>...</td>\n      <td>NaN</td>\n      <td>NaN</td>\n      <td>NaN</td>\n      <td>NaN</td>\n      <td>4</td>\n      <td>records100/21000/21834_lr</td>\n      <td>records500/21000/21834_hr</td>\n      <td>3</td>\n      <td>['NORM']</td>\n      <td>1</td>\n    </tr>\n    <tr>\n      <th>19311.0</th>\n      <td>59.0</td>\n      <td>1</td>\n      <td>NaN</td>\n      <td>NaN</td>\n      <td>1.0</td>\n      <td>2.0</td>\n      <td>AT-60    3</td>\n      <td>2001-06-08 10:30:27</td>\n      <td>sinusrhythmus lagetyp normal t abnorm in anter...</td>\n      <td>{'ISCAS': 50.0, 'SR': 0.0}</td>\n      <td>...</td>\n      <td>NaN</td>\n      <td>NaN</td>\n      <td>NaN</td>\n      <td>NaN</td>\n      <td>2</td>\n      <td>records100/21000/21835_lr</td>\n      <td>records500/21000/21835_hr</td>\n      <td>2</td>\n      <td>['STTC']</td>\n      <td>1</td>\n    </tr>\n    <tr>\n      <th>8873.0</th>\n      <td>64.0</td>\n      <td>1</td>\n      <td>NaN</td>\n      <td>NaN</td>\n      <td>1.0</td>\n      <td>2.0</td>\n      <td>AT-60    3</td>\n      <td>2001-06-09 18:21:49</td>\n      <td>supraventrikulÄre extrasystole(n) sinusrhythmu...</td>\n      <td>{'NORM': 100.0, 'SR': 0.0}</td>\n      <td>...</td>\n      <td>NaN</td>\n      <td>NaN</td>\n      <td>SVES</td>\n      <td>NaN</td>\n      <td>8</td>\n      <td>records100/21000/21836_lr</td>\n      <td>records500/21000/21836_hr</td>\n      <td>2</td>\n      <td>['NORM']</td>\n      <td>1</td>\n    </tr>\n    <tr>\n      <th>11744.0</th>\n      <td>68.0</td>\n      <td>0</td>\n      <td>NaN</td>\n      <td>NaN</td>\n      <td>1.0</td>\n      <td>2.0</td>\n      <td>AT-60    3</td>\n      <td>2001-06-11 16:43:01</td>\n      <td>sinusrhythmus p-sinistrocardiale lagetyp norma...</td>\n      <td>{'NORM': 100.0, 'SR': 0.0}</td>\n      <td>...</td>\n      <td>NaN</td>\n      <td>NaN</td>\n      <td>NaN</td>\n      <td>NaN</td>\n      <td>9</td>\n      <td>records100/21000/21837_lr</td>\n      <td>records500/21000/21837_hr</td>\n      <td>2</td>\n      <td>['NORM']</td>\n      <td>1</td>\n    </tr>\n  </tbody>\n</table>\n<p>21388 rows × 29 columns</p>\n</div>"
     },
     "execution_count": 2,
     "metadata": {},
     "output_type": "execute_result"
    }
   ],
   "source": [
    "ptbxl_data"
   ],
   "metadata": {
    "collapsed": false,
    "ExecuteTime": {
     "end_time": "2024-05-01T08:14:49.290372Z",
     "start_time": "2024-05-01T08:14:49.261081Z"
    }
   },
   "id": "d5ec3103e0d4e9ee",
   "execution_count": 2
  },
  {
   "cell_type": "code",
   "outputs": [],
   "source": [
    "\n",
    "def get_file_paths(filename):\n",
    "    filename_lr = filename.split('/')[-1].split('_')[0]\n",
    "    return fr\"C:\\Users\\redmi\\PycharmProjects\\ecg-tool-api\\data\\ptbxl\\npy_signals100\\{filename_lr}.npy\"\n",
    "\n",
    "clean_tags = lambda x: [e.replace(\"'\", \"\")  for e in x[1:-1].split(', ')]\n",
    "ptbxl_data[\"file_paths\"] = ptbxl_data[\"filename_lr\"].apply(get_file_paths)\n",
    "ptbxl_data[\"superdiagnostic\"] = ptbxl_data[\"superdiagnostic\"].apply(clean_tags)"
   ],
   "metadata": {
    "collapsed": false,
    "ExecuteTime": {
     "end_time": "2024-05-01T08:43:12.957161Z",
     "start_time": "2024-05-01T08:43:12.935326Z"
    }
   },
   "id": "4461ee8d19ddae25",
   "execution_count": 40
  },
  {
   "cell_type": "code",
   "outputs": [
    {
     "data": {
      "text/plain": "              age  sex  height  weight  nurse  site      device  \\\npatient_id                                                        \n15709.0      56.0    1     NaN    63.0    2.0   0.0   CS-12   E   \n13243.0      19.0    0     NaN    70.0    2.0   0.0   CS-12   E   \n20372.0      37.0    1     NaN    69.0    2.0   0.0   CS-12   E   \n17014.0      24.0    0     NaN    82.0    2.0   0.0   CS-12   E   \n17448.0      19.0    1     NaN    70.0    2.0   0.0   CS-12   E   \n...           ...  ...     ...     ...    ...   ...         ...   \n17180.0      67.0    1     NaN     NaN    1.0   2.0  AT-60    3   \n20703.0     300.0    0     NaN     NaN    1.0   2.0  AT-60    3   \n19311.0      59.0    1     NaN     NaN    1.0   2.0  AT-60    3   \n8873.0       64.0    1     NaN     NaN    1.0   2.0  AT-60    3   \n11744.0      68.0    0     NaN     NaN    1.0   2.0  AT-60    3   \n\n                 recording_date  \\\npatient_id                        \n15709.0     1984-11-09 09:17:34   \n13243.0     1984-11-14 12:55:37   \n20372.0     1984-11-15 12:49:10   \n17014.0     1984-11-15 13:44:57   \n17448.0     1984-11-17 10:43:15   \n...                         ...   \n17180.0     2001-05-31 09:14:35   \n20703.0     2001-06-05 11:33:39   \n19311.0     2001-06-08 10:30:27   \n8873.0      2001-06-09 18:21:49   \n11744.0     2001-06-11 16:43:01   \n\n                                                       report  \\\npatient_id                                                      \n15709.0                sinusrhythmus periphere niederspannung   \n13243.0                   sinusbradykardie sonst normales ekg   \n20372.0                            sinusrhythmus normales ekg   \n17014.0                            sinusrhythmus normales ekg   \n17448.0                            sinusrhythmus normales ekg   \n...                                                       ...   \n17180.0     ventrikulÄre extrasystole(n) sinustachykardie ...   \n20703.0     sinusrhythmus lagetyp normal qrs(t) abnorm    ...   \n19311.0     sinusrhythmus lagetyp normal t abnorm in anter...   \n8873.0      supraventrikulÄre extrasystole(n) sinusrhythmu...   \n11744.0     sinusrhythmus p-sinistrocardiale lagetyp norma...   \n\n                                                    scp_codes  ...  \\\npatient_id                                                     ...   \n15709.0              {'NORM': 100.0, 'LVOLT': 0.0, 'SR': 0.0}  ...   \n13243.0                          {'NORM': 80.0, 'SBRAD': 0.0}  ...   \n20372.0                            {'NORM': 100.0, 'SR': 0.0}  ...   \n17014.0                            {'NORM': 100.0, 'SR': 0.0}  ...   \n17448.0                            {'NORM': 100.0, 'SR': 0.0}  ...   \n...                                                       ...  ...   \n17180.0     {'NDT': 100.0, 'PVC': 100.0, 'VCLVH': 0.0, 'ST...  ...   \n20703.0              {'NORM': 100.0, 'ABQRS': 0.0, 'SR': 0.0}  ...   \n19311.0                            {'ISCAS': 50.0, 'SR': 0.0}  ...   \n8873.0                             {'NORM': 100.0, 'SR': 0.0}  ...   \n11744.0                            {'NORM': 100.0, 'SR': 0.0}  ...   \n\n           electrodes_problems extra_beats pacemaker  strat_fold  \\\npatient_id                                                         \n15709.0                    NaN         NaN       NaN           3   \n13243.0                    NaN         NaN       NaN           2   \n20372.0                    NaN         NaN       NaN           5   \n17014.0                    NaN         NaN       NaN           3   \n17448.0                    NaN         NaN       NaN           4   \n...                        ...         ...       ...         ...   \n17180.0                    NaN         1ES       NaN           7   \n20703.0                    NaN         NaN       NaN           4   \n19311.0                    NaN         NaN       NaN           2   \n8873.0                     NaN        SVES       NaN           8   \n11744.0                    NaN         NaN       NaN           9   \n\n                          filename_lr                filename_hr  \\\npatient_id                                                         \n15709.0     records100/00000/00001_lr  records500/00000/00001_hr   \n13243.0     records100/00000/00002_lr  records500/00000/00002_hr   \n20372.0     records100/00000/00003_lr  records500/00000/00003_hr   \n17014.0     records100/00000/00004_lr  records500/00000/00004_hr   \n17448.0     records100/00000/00005_lr  records500/00000/00005_hr   \n...                               ...                        ...   \n17180.0     records100/21000/21833_lr  records500/21000/21833_hr   \n20703.0     records100/21000/21834_lr  records500/21000/21834_hr   \n19311.0     records100/21000/21835_lr  records500/21000/21835_hr   \n8873.0      records100/21000/21836_lr  records500/21000/21836_hr   \n11744.0     records100/21000/21837_lr  records500/21000/21837_hr   \n\n            scp_codes_len superdiagnostic superdiagnostic_len  \\\npatient_id                                                      \n15709.0                 3          [NORM]                   1   \n13243.0                 2          [NORM]                   1   \n20372.0                 2          [NORM]                   1   \n17014.0                 2          [NORM]                   1   \n17448.0                 2          [NORM]                   1   \n...                   ...             ...                 ...   \n17180.0                 4          [STTC]                   1   \n20703.0                 3          [NORM]                   1   \n19311.0                 2          [STTC]                   1   \n8873.0                  2          [NORM]                   1   \n11744.0                 2          [NORM]                   1   \n\n                                                   file_paths  \npatient_id                                                     \n15709.0     C:\\Users\\redmi\\PycharmProjects\\ecg-tool-api\\da...  \n13243.0     C:\\Users\\redmi\\PycharmProjects\\ecg-tool-api\\da...  \n20372.0     C:\\Users\\redmi\\PycharmProjects\\ecg-tool-api\\da...  \n17014.0     C:\\Users\\redmi\\PycharmProjects\\ecg-tool-api\\da...  \n17448.0     C:\\Users\\redmi\\PycharmProjects\\ecg-tool-api\\da...  \n...                                                       ...  \n17180.0     C:\\Users\\redmi\\PycharmProjects\\ecg-tool-api\\da...  \n20703.0     C:\\Users\\redmi\\PycharmProjects\\ecg-tool-api\\da...  \n19311.0     C:\\Users\\redmi\\PycharmProjects\\ecg-tool-api\\da...  \n8873.0      C:\\Users\\redmi\\PycharmProjects\\ecg-tool-api\\da...  \n11744.0     C:\\Users\\redmi\\PycharmProjects\\ecg-tool-api\\da...  \n\n[21388 rows x 30 columns]",
      "text/html": "<div>\n<style scoped>\n    .dataframe tbody tr th:only-of-type {\n        vertical-align: middle;\n    }\n\n    .dataframe tbody tr th {\n        vertical-align: top;\n    }\n\n    .dataframe thead th {\n        text-align: right;\n    }\n</style>\n<table border=\"1\" class=\"dataframe\">\n  <thead>\n    <tr style=\"text-align: right;\">\n      <th></th>\n      <th>age</th>\n      <th>sex</th>\n      <th>height</th>\n      <th>weight</th>\n      <th>nurse</th>\n      <th>site</th>\n      <th>device</th>\n      <th>recording_date</th>\n      <th>report</th>\n      <th>scp_codes</th>\n      <th>...</th>\n      <th>electrodes_problems</th>\n      <th>extra_beats</th>\n      <th>pacemaker</th>\n      <th>strat_fold</th>\n      <th>filename_lr</th>\n      <th>filename_hr</th>\n      <th>scp_codes_len</th>\n      <th>superdiagnostic</th>\n      <th>superdiagnostic_len</th>\n      <th>file_paths</th>\n    </tr>\n    <tr>\n      <th>patient_id</th>\n      <th></th>\n      <th></th>\n      <th></th>\n      <th></th>\n      <th></th>\n      <th></th>\n      <th></th>\n      <th></th>\n      <th></th>\n      <th></th>\n      <th></th>\n      <th></th>\n      <th></th>\n      <th></th>\n      <th></th>\n      <th></th>\n      <th></th>\n      <th></th>\n      <th></th>\n      <th></th>\n      <th></th>\n    </tr>\n  </thead>\n  <tbody>\n    <tr>\n      <th>15709.0</th>\n      <td>56.0</td>\n      <td>1</td>\n      <td>NaN</td>\n      <td>63.0</td>\n      <td>2.0</td>\n      <td>0.0</td>\n      <td>CS-12   E</td>\n      <td>1984-11-09 09:17:34</td>\n      <td>sinusrhythmus periphere niederspannung</td>\n      <td>{'NORM': 100.0, 'LVOLT': 0.0, 'SR': 0.0}</td>\n      <td>...</td>\n      <td>NaN</td>\n      <td>NaN</td>\n      <td>NaN</td>\n      <td>3</td>\n      <td>records100/00000/00001_lr</td>\n      <td>records500/00000/00001_hr</td>\n      <td>3</td>\n      <td>[NORM]</td>\n      <td>1</td>\n      <td>C:\\Users\\redmi\\PycharmProjects\\ecg-tool-api\\da...</td>\n    </tr>\n    <tr>\n      <th>13243.0</th>\n      <td>19.0</td>\n      <td>0</td>\n      <td>NaN</td>\n      <td>70.0</td>\n      <td>2.0</td>\n      <td>0.0</td>\n      <td>CS-12   E</td>\n      <td>1984-11-14 12:55:37</td>\n      <td>sinusbradykardie sonst normales ekg</td>\n      <td>{'NORM': 80.0, 'SBRAD': 0.0}</td>\n      <td>...</td>\n      <td>NaN</td>\n      <td>NaN</td>\n      <td>NaN</td>\n      <td>2</td>\n      <td>records100/00000/00002_lr</td>\n      <td>records500/00000/00002_hr</td>\n      <td>2</td>\n      <td>[NORM]</td>\n      <td>1</td>\n      <td>C:\\Users\\redmi\\PycharmProjects\\ecg-tool-api\\da...</td>\n    </tr>\n    <tr>\n      <th>20372.0</th>\n      <td>37.0</td>\n      <td>1</td>\n      <td>NaN</td>\n      <td>69.0</td>\n      <td>2.0</td>\n      <td>0.0</td>\n      <td>CS-12   E</td>\n      <td>1984-11-15 12:49:10</td>\n      <td>sinusrhythmus normales ekg</td>\n      <td>{'NORM': 100.0, 'SR': 0.0}</td>\n      <td>...</td>\n      <td>NaN</td>\n      <td>NaN</td>\n      <td>NaN</td>\n      <td>5</td>\n      <td>records100/00000/00003_lr</td>\n      <td>records500/00000/00003_hr</td>\n      <td>2</td>\n      <td>[NORM]</td>\n      <td>1</td>\n      <td>C:\\Users\\redmi\\PycharmProjects\\ecg-tool-api\\da...</td>\n    </tr>\n    <tr>\n      <th>17014.0</th>\n      <td>24.0</td>\n      <td>0</td>\n      <td>NaN</td>\n      <td>82.0</td>\n      <td>2.0</td>\n      <td>0.0</td>\n      <td>CS-12   E</td>\n      <td>1984-11-15 13:44:57</td>\n      <td>sinusrhythmus normales ekg</td>\n      <td>{'NORM': 100.0, 'SR': 0.0}</td>\n      <td>...</td>\n      <td>NaN</td>\n      <td>NaN</td>\n      <td>NaN</td>\n      <td>3</td>\n      <td>records100/00000/00004_lr</td>\n      <td>records500/00000/00004_hr</td>\n      <td>2</td>\n      <td>[NORM]</td>\n      <td>1</td>\n      <td>C:\\Users\\redmi\\PycharmProjects\\ecg-tool-api\\da...</td>\n    </tr>\n    <tr>\n      <th>17448.0</th>\n      <td>19.0</td>\n      <td>1</td>\n      <td>NaN</td>\n      <td>70.0</td>\n      <td>2.0</td>\n      <td>0.0</td>\n      <td>CS-12   E</td>\n      <td>1984-11-17 10:43:15</td>\n      <td>sinusrhythmus normales ekg</td>\n      <td>{'NORM': 100.0, 'SR': 0.0}</td>\n      <td>...</td>\n      <td>NaN</td>\n      <td>NaN</td>\n      <td>NaN</td>\n      <td>4</td>\n      <td>records100/00000/00005_lr</td>\n      <td>records500/00000/00005_hr</td>\n      <td>2</td>\n      <td>[NORM]</td>\n      <td>1</td>\n      <td>C:\\Users\\redmi\\PycharmProjects\\ecg-tool-api\\da...</td>\n    </tr>\n    <tr>\n      <th>...</th>\n      <td>...</td>\n      <td>...</td>\n      <td>...</td>\n      <td>...</td>\n      <td>...</td>\n      <td>...</td>\n      <td>...</td>\n      <td>...</td>\n      <td>...</td>\n      <td>...</td>\n      <td>...</td>\n      <td>...</td>\n      <td>...</td>\n      <td>...</td>\n      <td>...</td>\n      <td>...</td>\n      <td>...</td>\n      <td>...</td>\n      <td>...</td>\n      <td>...</td>\n      <td>...</td>\n    </tr>\n    <tr>\n      <th>17180.0</th>\n      <td>67.0</td>\n      <td>1</td>\n      <td>NaN</td>\n      <td>NaN</td>\n      <td>1.0</td>\n      <td>2.0</td>\n      <td>AT-60    3</td>\n      <td>2001-05-31 09:14:35</td>\n      <td>ventrikulÄre extrasystole(n) sinustachykardie ...</td>\n      <td>{'NDT': 100.0, 'PVC': 100.0, 'VCLVH': 0.0, 'ST...</td>\n      <td>...</td>\n      <td>NaN</td>\n      <td>1ES</td>\n      <td>NaN</td>\n      <td>7</td>\n      <td>records100/21000/21833_lr</td>\n      <td>records500/21000/21833_hr</td>\n      <td>4</td>\n      <td>[STTC]</td>\n      <td>1</td>\n      <td>C:\\Users\\redmi\\PycharmProjects\\ecg-tool-api\\da...</td>\n    </tr>\n    <tr>\n      <th>20703.0</th>\n      <td>300.0</td>\n      <td>0</td>\n      <td>NaN</td>\n      <td>NaN</td>\n      <td>1.0</td>\n      <td>2.0</td>\n      <td>AT-60    3</td>\n      <td>2001-06-05 11:33:39</td>\n      <td>sinusrhythmus lagetyp normal qrs(t) abnorm    ...</td>\n      <td>{'NORM': 100.0, 'ABQRS': 0.0, 'SR': 0.0}</td>\n      <td>...</td>\n      <td>NaN</td>\n      <td>NaN</td>\n      <td>NaN</td>\n      <td>4</td>\n      <td>records100/21000/21834_lr</td>\n      <td>records500/21000/21834_hr</td>\n      <td>3</td>\n      <td>[NORM]</td>\n      <td>1</td>\n      <td>C:\\Users\\redmi\\PycharmProjects\\ecg-tool-api\\da...</td>\n    </tr>\n    <tr>\n      <th>19311.0</th>\n      <td>59.0</td>\n      <td>1</td>\n      <td>NaN</td>\n      <td>NaN</td>\n      <td>1.0</td>\n      <td>2.0</td>\n      <td>AT-60    3</td>\n      <td>2001-06-08 10:30:27</td>\n      <td>sinusrhythmus lagetyp normal t abnorm in anter...</td>\n      <td>{'ISCAS': 50.0, 'SR': 0.0}</td>\n      <td>...</td>\n      <td>NaN</td>\n      <td>NaN</td>\n      <td>NaN</td>\n      <td>2</td>\n      <td>records100/21000/21835_lr</td>\n      <td>records500/21000/21835_hr</td>\n      <td>2</td>\n      <td>[STTC]</td>\n      <td>1</td>\n      <td>C:\\Users\\redmi\\PycharmProjects\\ecg-tool-api\\da...</td>\n    </tr>\n    <tr>\n      <th>8873.0</th>\n      <td>64.0</td>\n      <td>1</td>\n      <td>NaN</td>\n      <td>NaN</td>\n      <td>1.0</td>\n      <td>2.0</td>\n      <td>AT-60    3</td>\n      <td>2001-06-09 18:21:49</td>\n      <td>supraventrikulÄre extrasystole(n) sinusrhythmu...</td>\n      <td>{'NORM': 100.0, 'SR': 0.0}</td>\n      <td>...</td>\n      <td>NaN</td>\n      <td>SVES</td>\n      <td>NaN</td>\n      <td>8</td>\n      <td>records100/21000/21836_lr</td>\n      <td>records500/21000/21836_hr</td>\n      <td>2</td>\n      <td>[NORM]</td>\n      <td>1</td>\n      <td>C:\\Users\\redmi\\PycharmProjects\\ecg-tool-api\\da...</td>\n    </tr>\n    <tr>\n      <th>11744.0</th>\n      <td>68.0</td>\n      <td>0</td>\n      <td>NaN</td>\n      <td>NaN</td>\n      <td>1.0</td>\n      <td>2.0</td>\n      <td>AT-60    3</td>\n      <td>2001-06-11 16:43:01</td>\n      <td>sinusrhythmus p-sinistrocardiale lagetyp norma...</td>\n      <td>{'NORM': 100.0, 'SR': 0.0}</td>\n      <td>...</td>\n      <td>NaN</td>\n      <td>NaN</td>\n      <td>NaN</td>\n      <td>9</td>\n      <td>records100/21000/21837_lr</td>\n      <td>records500/21000/21837_hr</td>\n      <td>2</td>\n      <td>[NORM]</td>\n      <td>1</td>\n      <td>C:\\Users\\redmi\\PycharmProjects\\ecg-tool-api\\da...</td>\n    </tr>\n  </tbody>\n</table>\n<p>21388 rows × 30 columns</p>\n</div>"
     },
     "execution_count": 12,
     "metadata": {},
     "output_type": "execute_result"
    }
   ],
   "source": [
    "ptbxl_data"
   ],
   "metadata": {
    "collapsed": false,
    "ExecuteTime": {
     "end_time": "2024-05-01T08:17:34.736711Z",
     "start_time": "2024-05-01T08:17:34.702417Z"
    }
   },
   "id": "e073cf86be1dd6c1",
   "execution_count": 12
  },
  {
   "cell_type": "markdown",
   "source": [
    "# Data preparation"
   ],
   "metadata": {
    "collapsed": false
   },
   "id": "f62b50150dc67d5e"
  },
  {
   "cell_type": "code",
   "outputs": [
    {
     "data": {
      "text/plain": "['CD', 'HYP', 'MI', 'NORM', 'STTC']"
     },
     "execution_count": 41,
     "metadata": {},
     "output_type": "execute_result"
    }
   ],
   "source": [
    "from sklearn.preprocessing import MultiLabelBinarizer\n",
    "mlb = MultiLabelBinarizer()\n",
    "mlb.fit(ptbxl_data[\"superdiagnostic\"].values)\n",
    "mlb.classes_.tolist()"
   ],
   "metadata": {
    "collapsed": false,
    "ExecuteTime": {
     "end_time": "2024-05-01T08:43:16.494719Z",
     "start_time": "2024-05-01T08:43:16.485831Z"
    }
   },
   "id": "7b1f96a43fa64a21",
   "execution_count": 41
  },
  {
   "cell_type": "code",
   "outputs": [],
   "source": [
    "train_labels = mlb.transform(ptbxl_data[\"superdiagnostic\"].tolist())\n",
    "ptbxl_data[mlb.classes_.tolist()] = train_labels"
   ],
   "metadata": {
    "collapsed": false,
    "ExecuteTime": {
     "end_time": "2024-05-01T08:43:19.692184Z",
     "start_time": "2024-05-01T08:43:19.681251Z"
    }
   },
   "id": "643096eccfee0d20",
   "execution_count": 42
  },
  {
   "cell_type": "code",
   "outputs": [
    {
     "data": {
      "text/plain": "              age  sex  height  weight  nurse  site      device  \\\npatient_id                                                        \n15709.0      56.0    1     NaN    63.0    2.0   0.0   CS-12   E   \n13243.0      19.0    0     NaN    70.0    2.0   0.0   CS-12   E   \n20372.0      37.0    1     NaN    69.0    2.0   0.0   CS-12   E   \n17014.0      24.0    0     NaN    82.0    2.0   0.0   CS-12   E   \n17448.0      19.0    1     NaN    70.0    2.0   0.0   CS-12   E   \n...           ...  ...     ...     ...    ...   ...         ...   \n17180.0      67.0    1     NaN     NaN    1.0   2.0  AT-60    3   \n20703.0     300.0    0     NaN     NaN    1.0   2.0  AT-60    3   \n19311.0      59.0    1     NaN     NaN    1.0   2.0  AT-60    3   \n8873.0       64.0    1     NaN     NaN    1.0   2.0  AT-60    3   \n11744.0      68.0    0     NaN     NaN    1.0   2.0  AT-60    3   \n\n                 recording_date  \\\npatient_id                        \n15709.0     1984-11-09 09:17:34   \n13243.0     1984-11-14 12:55:37   \n20372.0     1984-11-15 12:49:10   \n17014.0     1984-11-15 13:44:57   \n17448.0     1984-11-17 10:43:15   \n...                         ...   \n17180.0     2001-05-31 09:14:35   \n20703.0     2001-06-05 11:33:39   \n19311.0     2001-06-08 10:30:27   \n8873.0      2001-06-09 18:21:49   \n11744.0     2001-06-11 16:43:01   \n\n                                                       report  \\\npatient_id                                                      \n15709.0                sinusrhythmus periphere niederspannung   \n13243.0                   sinusbradykardie sonst normales ekg   \n20372.0                            sinusrhythmus normales ekg   \n17014.0                            sinusrhythmus normales ekg   \n17448.0                            sinusrhythmus normales ekg   \n...                                                       ...   \n17180.0     ventrikulÄre extrasystole(n) sinustachykardie ...   \n20703.0     sinusrhythmus lagetyp normal qrs(t) abnorm    ...   \n19311.0     sinusrhythmus lagetyp normal t abnorm in anter...   \n8873.0      supraventrikulÄre extrasystole(n) sinusrhythmu...   \n11744.0     sinusrhythmus p-sinistrocardiale lagetyp norma...   \n\n                                                    scp_codes  ...  \\\npatient_id                                                     ...   \n15709.0              {'NORM': 100.0, 'LVOLT': 0.0, 'SR': 0.0}  ...   \n13243.0                          {'NORM': 80.0, 'SBRAD': 0.0}  ...   \n20372.0                            {'NORM': 100.0, 'SR': 0.0}  ...   \n17014.0                            {'NORM': 100.0, 'SR': 0.0}  ...   \n17448.0                            {'NORM': 100.0, 'SR': 0.0}  ...   \n...                                                       ...  ...   \n17180.0     {'NDT': 100.0, 'PVC': 100.0, 'VCLVH': 0.0, 'ST...  ...   \n20703.0              {'NORM': 100.0, 'ABQRS': 0.0, 'SR': 0.0}  ...   \n19311.0                            {'ISCAS': 50.0, 'SR': 0.0}  ...   \n8873.0                             {'NORM': 100.0, 'SR': 0.0}  ...   \n11744.0                            {'NORM': 100.0, 'SR': 0.0}  ...   \n\n                          filename_hr scp_codes_len superdiagnostic  \\\npatient_id                                                            \n15709.0     records500/00000/00001_hr             3          [NORM]   \n13243.0     records500/00000/00002_hr             2          [NORM]   \n20372.0     records500/00000/00003_hr             2          [NORM]   \n17014.0     records500/00000/00004_hr             2          [NORM]   \n17448.0     records500/00000/00005_hr             2          [NORM]   \n...                               ...           ...             ...   \n17180.0     records500/21000/21833_hr             4          [STTC]   \n20703.0     records500/21000/21834_hr             3          [NORM]   \n19311.0     records500/21000/21835_hr             2          [STTC]   \n8873.0      records500/21000/21836_hr             2          [NORM]   \n11744.0     records500/21000/21837_hr             2          [NORM]   \n\n            superdiagnostic_len  \\\npatient_id                        \n15709.0                       1   \n13243.0                       1   \n20372.0                       1   \n17014.0                       1   \n17448.0                       1   \n...                         ...   \n17180.0                       1   \n20703.0                       1   \n19311.0                       1   \n8873.0                        1   \n11744.0                       1   \n\n                                                   file_paths  CD  HYP MI  \\\npatient_id                                                                  \n15709.0     C:\\Users\\redmi\\PycharmProjects\\ecg-tool-api\\da...   0    0  0   \n13243.0     C:\\Users\\redmi\\PycharmProjects\\ecg-tool-api\\da...   0    0  0   \n20372.0     C:\\Users\\redmi\\PycharmProjects\\ecg-tool-api\\da...   0    0  0   \n17014.0     C:\\Users\\redmi\\PycharmProjects\\ecg-tool-api\\da...   0    0  0   \n17448.0     C:\\Users\\redmi\\PycharmProjects\\ecg-tool-api\\da...   0    0  0   \n...                                                       ...  ..  ... ..   \n17180.0     C:\\Users\\redmi\\PycharmProjects\\ecg-tool-api\\da...   0    0  0   \n20703.0     C:\\Users\\redmi\\PycharmProjects\\ecg-tool-api\\da...   0    0  0   \n19311.0     C:\\Users\\redmi\\PycharmProjects\\ecg-tool-api\\da...   0    0  0   \n8873.0      C:\\Users\\redmi\\PycharmProjects\\ecg-tool-api\\da...   0    0  0   \n11744.0     C:\\Users\\redmi\\PycharmProjects\\ecg-tool-api\\da...   0    0  0   \n\n           NORM STTC  \npatient_id            \n15709.0       1    0  \n13243.0       1    0  \n20372.0       1    0  \n17014.0       1    0  \n17448.0       1    0  \n...         ...  ...  \n17180.0       0    1  \n20703.0       1    0  \n19311.0       0    1  \n8873.0        1    0  \n11744.0       1    0  \n\n[21388 rows x 35 columns]",
      "text/html": "<div>\n<style scoped>\n    .dataframe tbody tr th:only-of-type {\n        vertical-align: middle;\n    }\n\n    .dataframe tbody tr th {\n        vertical-align: top;\n    }\n\n    .dataframe thead th {\n        text-align: right;\n    }\n</style>\n<table border=\"1\" class=\"dataframe\">\n  <thead>\n    <tr style=\"text-align: right;\">\n      <th></th>\n      <th>age</th>\n      <th>sex</th>\n      <th>height</th>\n      <th>weight</th>\n      <th>nurse</th>\n      <th>site</th>\n      <th>device</th>\n      <th>recording_date</th>\n      <th>report</th>\n      <th>scp_codes</th>\n      <th>...</th>\n      <th>filename_hr</th>\n      <th>scp_codes_len</th>\n      <th>superdiagnostic</th>\n      <th>superdiagnostic_len</th>\n      <th>file_paths</th>\n      <th>CD</th>\n      <th>HYP</th>\n      <th>MI</th>\n      <th>NORM</th>\n      <th>STTC</th>\n    </tr>\n    <tr>\n      <th>patient_id</th>\n      <th></th>\n      <th></th>\n      <th></th>\n      <th></th>\n      <th></th>\n      <th></th>\n      <th></th>\n      <th></th>\n      <th></th>\n      <th></th>\n      <th></th>\n      <th></th>\n      <th></th>\n      <th></th>\n      <th></th>\n      <th></th>\n      <th></th>\n      <th></th>\n      <th></th>\n      <th></th>\n      <th></th>\n    </tr>\n  </thead>\n  <tbody>\n    <tr>\n      <th>15709.0</th>\n      <td>56.0</td>\n      <td>1</td>\n      <td>NaN</td>\n      <td>63.0</td>\n      <td>2.0</td>\n      <td>0.0</td>\n      <td>CS-12   E</td>\n      <td>1984-11-09 09:17:34</td>\n      <td>sinusrhythmus periphere niederspannung</td>\n      <td>{'NORM': 100.0, 'LVOLT': 0.0, 'SR': 0.0}</td>\n      <td>...</td>\n      <td>records500/00000/00001_hr</td>\n      <td>3</td>\n      <td>[NORM]</td>\n      <td>1</td>\n      <td>C:\\Users\\redmi\\PycharmProjects\\ecg-tool-api\\da...</td>\n      <td>0</td>\n      <td>0</td>\n      <td>0</td>\n      <td>1</td>\n      <td>0</td>\n    </tr>\n    <tr>\n      <th>13243.0</th>\n      <td>19.0</td>\n      <td>0</td>\n      <td>NaN</td>\n      <td>70.0</td>\n      <td>2.0</td>\n      <td>0.0</td>\n      <td>CS-12   E</td>\n      <td>1984-11-14 12:55:37</td>\n      <td>sinusbradykardie sonst normales ekg</td>\n      <td>{'NORM': 80.0, 'SBRAD': 0.0}</td>\n      <td>...</td>\n      <td>records500/00000/00002_hr</td>\n      <td>2</td>\n      <td>[NORM]</td>\n      <td>1</td>\n      <td>C:\\Users\\redmi\\PycharmProjects\\ecg-tool-api\\da...</td>\n      <td>0</td>\n      <td>0</td>\n      <td>0</td>\n      <td>1</td>\n      <td>0</td>\n    </tr>\n    <tr>\n      <th>20372.0</th>\n      <td>37.0</td>\n      <td>1</td>\n      <td>NaN</td>\n      <td>69.0</td>\n      <td>2.0</td>\n      <td>0.0</td>\n      <td>CS-12   E</td>\n      <td>1984-11-15 12:49:10</td>\n      <td>sinusrhythmus normales ekg</td>\n      <td>{'NORM': 100.0, 'SR': 0.0}</td>\n      <td>...</td>\n      <td>records500/00000/00003_hr</td>\n      <td>2</td>\n      <td>[NORM]</td>\n      <td>1</td>\n      <td>C:\\Users\\redmi\\PycharmProjects\\ecg-tool-api\\da...</td>\n      <td>0</td>\n      <td>0</td>\n      <td>0</td>\n      <td>1</td>\n      <td>0</td>\n    </tr>\n    <tr>\n      <th>17014.0</th>\n      <td>24.0</td>\n      <td>0</td>\n      <td>NaN</td>\n      <td>82.0</td>\n      <td>2.0</td>\n      <td>0.0</td>\n      <td>CS-12   E</td>\n      <td>1984-11-15 13:44:57</td>\n      <td>sinusrhythmus normales ekg</td>\n      <td>{'NORM': 100.0, 'SR': 0.0}</td>\n      <td>...</td>\n      <td>records500/00000/00004_hr</td>\n      <td>2</td>\n      <td>[NORM]</td>\n      <td>1</td>\n      <td>C:\\Users\\redmi\\PycharmProjects\\ecg-tool-api\\da...</td>\n      <td>0</td>\n      <td>0</td>\n      <td>0</td>\n      <td>1</td>\n      <td>0</td>\n    </tr>\n    <tr>\n      <th>17448.0</th>\n      <td>19.0</td>\n      <td>1</td>\n      <td>NaN</td>\n      <td>70.0</td>\n      <td>2.0</td>\n      <td>0.0</td>\n      <td>CS-12   E</td>\n      <td>1984-11-17 10:43:15</td>\n      <td>sinusrhythmus normales ekg</td>\n      <td>{'NORM': 100.0, 'SR': 0.0}</td>\n      <td>...</td>\n      <td>records500/00000/00005_hr</td>\n      <td>2</td>\n      <td>[NORM]</td>\n      <td>1</td>\n      <td>C:\\Users\\redmi\\PycharmProjects\\ecg-tool-api\\da...</td>\n      <td>0</td>\n      <td>0</td>\n      <td>0</td>\n      <td>1</td>\n      <td>0</td>\n    </tr>\n    <tr>\n      <th>...</th>\n      <td>...</td>\n      <td>...</td>\n      <td>...</td>\n      <td>...</td>\n      <td>...</td>\n      <td>...</td>\n      <td>...</td>\n      <td>...</td>\n      <td>...</td>\n      <td>...</td>\n      <td>...</td>\n      <td>...</td>\n      <td>...</td>\n      <td>...</td>\n      <td>...</td>\n      <td>...</td>\n      <td>...</td>\n      <td>...</td>\n      <td>...</td>\n      <td>...</td>\n      <td>...</td>\n    </tr>\n    <tr>\n      <th>17180.0</th>\n      <td>67.0</td>\n      <td>1</td>\n      <td>NaN</td>\n      <td>NaN</td>\n      <td>1.0</td>\n      <td>2.0</td>\n      <td>AT-60    3</td>\n      <td>2001-05-31 09:14:35</td>\n      <td>ventrikulÄre extrasystole(n) sinustachykardie ...</td>\n      <td>{'NDT': 100.0, 'PVC': 100.0, 'VCLVH': 0.0, 'ST...</td>\n      <td>...</td>\n      <td>records500/21000/21833_hr</td>\n      <td>4</td>\n      <td>[STTC]</td>\n      <td>1</td>\n      <td>C:\\Users\\redmi\\PycharmProjects\\ecg-tool-api\\da...</td>\n      <td>0</td>\n      <td>0</td>\n      <td>0</td>\n      <td>0</td>\n      <td>1</td>\n    </tr>\n    <tr>\n      <th>20703.0</th>\n      <td>300.0</td>\n      <td>0</td>\n      <td>NaN</td>\n      <td>NaN</td>\n      <td>1.0</td>\n      <td>2.0</td>\n      <td>AT-60    3</td>\n      <td>2001-06-05 11:33:39</td>\n      <td>sinusrhythmus lagetyp normal qrs(t) abnorm    ...</td>\n      <td>{'NORM': 100.0, 'ABQRS': 0.0, 'SR': 0.0}</td>\n      <td>...</td>\n      <td>records500/21000/21834_hr</td>\n      <td>3</td>\n      <td>[NORM]</td>\n      <td>1</td>\n      <td>C:\\Users\\redmi\\PycharmProjects\\ecg-tool-api\\da...</td>\n      <td>0</td>\n      <td>0</td>\n      <td>0</td>\n      <td>1</td>\n      <td>0</td>\n    </tr>\n    <tr>\n      <th>19311.0</th>\n      <td>59.0</td>\n      <td>1</td>\n      <td>NaN</td>\n      <td>NaN</td>\n      <td>1.0</td>\n      <td>2.0</td>\n      <td>AT-60    3</td>\n      <td>2001-06-08 10:30:27</td>\n      <td>sinusrhythmus lagetyp normal t abnorm in anter...</td>\n      <td>{'ISCAS': 50.0, 'SR': 0.0}</td>\n      <td>...</td>\n      <td>records500/21000/21835_hr</td>\n      <td>2</td>\n      <td>[STTC]</td>\n      <td>1</td>\n      <td>C:\\Users\\redmi\\PycharmProjects\\ecg-tool-api\\da...</td>\n      <td>0</td>\n      <td>0</td>\n      <td>0</td>\n      <td>0</td>\n      <td>1</td>\n    </tr>\n    <tr>\n      <th>8873.0</th>\n      <td>64.0</td>\n      <td>1</td>\n      <td>NaN</td>\n      <td>NaN</td>\n      <td>1.0</td>\n      <td>2.0</td>\n      <td>AT-60    3</td>\n      <td>2001-06-09 18:21:49</td>\n      <td>supraventrikulÄre extrasystole(n) sinusrhythmu...</td>\n      <td>{'NORM': 100.0, 'SR': 0.0}</td>\n      <td>...</td>\n      <td>records500/21000/21836_hr</td>\n      <td>2</td>\n      <td>[NORM]</td>\n      <td>1</td>\n      <td>C:\\Users\\redmi\\PycharmProjects\\ecg-tool-api\\da...</td>\n      <td>0</td>\n      <td>0</td>\n      <td>0</td>\n      <td>1</td>\n      <td>0</td>\n    </tr>\n    <tr>\n      <th>11744.0</th>\n      <td>68.0</td>\n      <td>0</td>\n      <td>NaN</td>\n      <td>NaN</td>\n      <td>1.0</td>\n      <td>2.0</td>\n      <td>AT-60    3</td>\n      <td>2001-06-11 16:43:01</td>\n      <td>sinusrhythmus p-sinistrocardiale lagetyp norma...</td>\n      <td>{'NORM': 100.0, 'SR': 0.0}</td>\n      <td>...</td>\n      <td>records500/21000/21837_hr</td>\n      <td>2</td>\n      <td>[NORM]</td>\n      <td>1</td>\n      <td>C:\\Users\\redmi\\PycharmProjects\\ecg-tool-api\\da...</td>\n      <td>0</td>\n      <td>0</td>\n      <td>0</td>\n      <td>1</td>\n      <td>0</td>\n    </tr>\n  </tbody>\n</table>\n<p>21388 rows × 35 columns</p>\n</div>"
     },
     "execution_count": 43,
     "metadata": {},
     "output_type": "execute_result"
    }
   ],
   "source": [
    "ptbxl_data"
   ],
   "metadata": {
    "collapsed": false,
    "ExecuteTime": {
     "end_time": "2024-05-01T08:43:22.054476Z",
     "start_time": "2024-05-01T08:43:22.026215Z"
    }
   },
   "id": "de1cef130b828ba1",
   "execution_count": 43
  },
  {
   "cell_type": "code",
   "outputs": [
    {
     "data": {
      "text/plain": "Index(['age', 'sex', 'height', 'weight', 'nurse', 'site', 'device',\n       'recording_date', 'report', 'scp_codes', 'heart_axis',\n       'infarction_stadium1', 'infarction_stadium2', 'validated_by',\n       'second_opinion', 'initial_autogenerated_report', 'validated_by_human',\n       'baseline_drift', 'static_noise', 'burst_noise', 'electrodes_problems',\n       'extra_beats', 'pacemaker', 'strat_fold', 'filename_lr', 'filename_hr',\n       'scp_codes_len', 'superdiagnostic', 'superdiagnostic_len', 'file_paths',\n       'CD', 'HYP', 'MI', 'NORM', 'STTC'],\n      dtype='object')"
     },
     "execution_count": 44,
     "metadata": {},
     "output_type": "execute_result"
    }
   ],
   "source": [
    "ptbxl_data.columns"
   ],
   "metadata": {
    "collapsed": false,
    "ExecuteTime": {
     "end_time": "2024-05-01T08:43:30.850435Z",
     "start_time": "2024-05-01T08:43:30.847189Z"
    }
   },
   "id": "90538dfdd1293b14",
   "execution_count": 44
  },
  {
   "cell_type": "code",
   "outputs": [],
   "source": [
    "from app.ecg.ecg import EcgDataset\n",
    "dataset = EcgDataset(ptbxl_data)\n"
   ],
   "metadata": {
    "collapsed": false,
    "ExecuteTime": {
     "end_time": "2024-05-01T08:43:34.167534Z",
     "start_time": "2024-05-01T08:43:34.163577Z"
    }
   },
   "id": "863f4c8114ea8ef5",
   "execution_count": 45
  },
  {
   "cell_type": "code",
   "outputs": [
    {
     "data": {
      "text/plain": "array([[-0.119, -0.055,  0.064, ..., -0.026, -0.039, -0.079],\n       [-0.116, -0.051,  0.065, ..., -0.031, -0.034, -0.074],\n       [-0.12 , -0.044,  0.076, ..., -0.028, -0.029, -0.069],\n       ...,\n       [ 0.069,  0.   , -0.069, ...,  0.024, -0.041, -0.058],\n       [ 0.086,  0.004, -0.081, ...,  0.242, -0.046, -0.098],\n       [ 0.022, -0.031, -0.054, ...,  0.143, -0.035, -0.12 ]])"
     },
     "execution_count": 47,
     "metadata": {},
     "output_type": "execute_result"
    }
   ],
   "source": [
    "ecg, label = dataset[0]\n",
    "ecg"
   ],
   "metadata": {
    "collapsed": false,
    "ExecuteTime": {
     "end_time": "2024-05-01T08:43:56.060589Z",
     "start_time": "2024-05-01T08:43:56.054860Z"
    }
   },
   "id": "384e6b7f1685880f",
   "execution_count": 47
  }
 ],
 "metadata": {
  "kernelspec": {
   "display_name": "Python 3",
   "language": "python",
   "name": "python3"
  },
  "language_info": {
   "codemirror_mode": {
    "name": "ipython",
    "version": 2
   },
   "file_extension": ".py",
   "mimetype": "text/x-python",
   "name": "python",
   "nbconvert_exporter": "python",
   "pygments_lexer": "ipython2",
   "version": "2.7.6"
  }
 },
 "nbformat": 4,
 "nbformat_minor": 5
}
